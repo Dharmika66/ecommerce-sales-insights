{
 "cells": [
  {
   "cell_type": "markdown",
   "id": "3dc3baa7",
   "metadata": {},
   "source": [
    "# E-commerce Sales Insights\n",
    "\n",
    "This notebook demonstrates SQL-based data analysis using a synthetic e-commerce dataset loaded into a SQLite database."
   ]
  },
  {
   "cell_type": "code",
   "execution_count": 2,
   "id": "5e825ec3",
   "metadata": {},
   "outputs": [
    {
     "ename": "ModuleNotFoundError",
     "evalue": "No module named 'pandas'",
     "output_type": "error",
     "traceback": [
      "\u001b[31m---------------------------------------------------------------------------\u001b[39m",
      "\u001b[31mModuleNotFoundError\u001b[39m                       Traceback (most recent call last)",
      "\u001b[36mCell\u001b[39m\u001b[36m \u001b[39m\u001b[32mIn[2]\u001b[39m\u001b[32m, line 1\u001b[39m\n\u001b[32m----> \u001b[39m\u001b[32m1\u001b[39m \u001b[38;5;28;01mimport\u001b[39;00m\u001b[38;5;250m \u001b[39m\u001b[34;01mpandas\u001b[39;00m\u001b[38;5;250m \u001b[39m\u001b[38;5;28;01mas\u001b[39;00m\u001b[38;5;250m \u001b[39m\u001b[34;01mpd\u001b[39;00m\n\u001b[32m      2\u001b[39m \u001b[38;5;28;01mimport\u001b[39;00m\u001b[38;5;250m \u001b[39m\u001b[34;01msqlite3\u001b[39;00m\n\u001b[32m      3\u001b[39m \u001b[38;5;28;01mimport\u001b[39;00m\u001b[38;5;250m \u001b[39m\u001b[34;01mmatplotlib\u001b[39;00m\u001b[34;01m.\u001b[39;00m\u001b[34;01mpyplot\u001b[39;00m\u001b[38;5;250m \u001b[39m\u001b[38;5;28;01mas\u001b[39;00m\u001b[38;5;250m \u001b[39m\u001b[34;01mplt\u001b[39;00m\n",
      "\u001b[31mModuleNotFoundError\u001b[39m: No module named 'pandas'"
     ]
    }
   ],
   "source": [
    "import pandas as pd\n",
    "import sqlite3\n",
    "import matplotlib.pyplot as plt\n",
    "\n",
    "# Connect to the database\n",
    "conn = sqlite3.connect(\"ecommerce.db\")\n"
   ]
  },
  {
   "cell_type": "markdown",
   "id": "6d522a89",
   "metadata": {},
   "source": [
    "## Top 10 Customers by Total Spending"
   ]
  },
  {
   "cell_type": "code",
   "execution_count": null,
   "id": "8e62f598",
   "metadata": {},
   "outputs": [],
   "source": [
    "query = '''\n",
    "SELECT c.customer_id, c.name, SUM(o.total_amount) AS total_spent\n",
    "FROM customers c\n",
    "JOIN orders o ON c.customer_id = o.customer_id\n",
    "GROUP BY c.customer_id, c.name\n",
    "ORDER BY total_spent DESC\n",
    "LIMIT 10;\n",
    "'''\n",
    "top_customers = pd.read_sql_query(query, conn)\n",
    "top_customers"
   ]
  },
  {
   "cell_type": "markdown",
   "id": "e95f2fa2",
   "metadata": {},
   "source": [
    "## Monthly Revenue Trend"
   ]
  },
  {
   "cell_type": "code",
   "execution_count": null,
   "id": "e2b8ce4b",
   "metadata": {},
   "outputs": [],
   "source": [
    "query = '''\n",
    "SELECT substr(order_date, 1, 7) AS month, SUM(total_amount) AS revenue\n",
    "FROM orders\n",
    "WHERE status IN ('Shipped', 'Delivered')\n",
    "GROUP BY month\n",
    "ORDER BY month;\n",
    "'''\n",
    "monthly_revenue = pd.read_sql_query(query, conn)\n",
    "monthly_revenue.plot(x='month', y='revenue', kind='line', title='Monthly Revenue', figsize=(10, 5))\n",
    "plt.xticks(rotation=45)\n",
    "plt.grid(True)\n",
    "plt.tight_layout()\n",
    "plt.show()\n"
   ]
  },
  {
   "cell_type": "markdown",
   "id": "accd0a49",
   "metadata": {},
   "source": [
    "## Most Returned Products"
   ]
  },
  {
   "cell_type": "code",
   "execution_count": null,
   "id": "06f377e9",
   "metadata": {},
   "outputs": [],
   "source": [
    "query = '''\n",
    "SELECT p.product_name, COUNT(*) AS return_count\n",
    "FROM returns r\n",
    "JOIN products p ON r.product_id = p.product_id\n",
    "GROUP BY p.product_name\n",
    "ORDER BY return_count DESC\n",
    "LIMIT 10;\n",
    "'''\n",
    "returns = pd.read_sql_query(query, conn)\n",
    "returns"
   ]
  },
  {
   "cell_type": "markdown",
   "id": "671d4b22",
   "metadata": {},
   "source": [
    "## Repeat Customer Percentage"
   ]
  },
  {
   "cell_type": "code",
   "execution_count": null,
   "id": "4c0f4de1",
   "metadata": {},
   "outputs": [],
   "source": [
    "query = '''\n",
    "WITH order_counts AS (\n",
    "  SELECT customer_id, COUNT(*) AS order_count\n",
    "  FROM orders\n",
    "  GROUP BY customer_id\n",
    ")\n",
    "SELECT\n",
    "  ROUND(100.0 * SUM(CASE WHEN order_count > 1 THEN 1 ELSE 0 END) / COUNT(*), 2) AS repeat_customer_percentage\n",
    "FROM order_counts;\n",
    "'''\n",
    "repeat_rate = pd.read_sql_query(query, conn)\n",
    "repeat_rate"
   ]
  },
  {
   "cell_type": "markdown",
   "id": "b4418c60",
   "metadata": {},
   "source": [
    "## Profit by Product"
   ]
  },
  {
   "cell_type": "code",
   "execution_count": null,
   "id": "3934e9ae",
   "metadata": {},
   "outputs": [],
   "source": [
    "query = '''\n",
    "SELECT \n",
    "  p.product_name, \n",
    "  SUM(oi.quantity * (oi.item_price - p.cost)) AS total_profit\n",
    "FROM order_items oi\n",
    "JOIN products p ON oi.product_id = p.product_id\n",
    "GROUP BY p.product_name\n",
    "ORDER BY total_profit DESC\n",
    "LIMIT 10;\n",
    "'''\n",
    "profit = pd.read_sql_query(query, conn)\n",
    "profit"
   ]
  },
  {
   "cell_type": "code",
   "execution_count": null,
   "id": "061aa048",
   "metadata": {},
   "outputs": [],
   "source": [
    "conn.close()"
   ]
  }
 ],
 "metadata": {
  "kernelspec": {
   "display_name": ".venv",
   "language": "python",
   "name": "python3"
  },
  "language_info": {
   "codemirror_mode": {
    "name": "ipython",
    "version": 3
   },
   "file_extension": ".py",
   "mimetype": "text/x-python",
   "name": "python",
   "nbconvert_exporter": "python",
   "pygments_lexer": "ipython3",
   "version": "3.13.2"
  }
 },
 "nbformat": 4,
 "nbformat_minor": 5
}
